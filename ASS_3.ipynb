{
 "cells": [
  {
   "cell_type": "markdown",
   "id": "505fdea1-acb4-481d-8eef-8bb579ea6363",
   "metadata": {},
   "source": [
    "## Python Task 3"
   ]
  },
  {
   "cell_type": "markdown",
   "id": "448fa2b8-b85e-43cc-9eb6-5f569b718dd2",
   "metadata": {},
   "source": [
    "### Question: Count Vowels in a String\n",
    "\n",
    "**Description:** Write a function named count_vowels that takes a string as an argument and returns the count of vowels (a, e, i, o, u) in the string. \n",
    "\n",
    "The function should be case-insensitive, counting both uppercase and lowercase vowels.\n"
   ]
  },
  {
   "cell_type": "code",
   "execution_count": 1,
   "id": "6db4ae4b-6a72-4973-90bd-3b3ab2f19da5",
   "metadata": {},
   "outputs": [
    {
     "data": {
      "text/plain": [
       "'\\n# Example Input:\\ntext = \"Hello World\"\\n# Expected Output:\\n3\\n'"
      ]
     },
     "execution_count": 1,
     "metadata": {},
     "output_type": "execute_result"
    }
   ],
   "source": [
    "'''\n",
    "# Example Input:\n",
    "text = \"Hello World\"\n",
    "# Expected Output:\n",
    "3\n",
    "'''"
   ]
  },
  {
   "cell_type": "code",
   "execution_count": 2,
   "id": "f126871b-f339-47e8-b098-fb9549aa90f2",
   "metadata": {},
   "outputs": [
    {
     "name": "stdout",
     "output_type": "stream",
     "text": [
      "3\n",
      "5\n"
     ]
    }
   ],
   "source": [
    "def count_vowels(input_str):\n",
    "    vowel_list = ['a', 'e', 'i', 'o', 'u']\n",
    "    vowel_count = 0\n",
    "    for char in input_str:\n",
    "        if char.lower() in vowel_list:\n",
    "            vowel_count += 1\n",
    "    return vowel_count\n",
    "\n",
    "print(count_vowels('Hello World'))\n",
    "print(count_vowels('AeIoU'))\n"
   ]
  },
  {
   "cell_type": "markdown",
   "id": "9afb4074-99b7-4a5e-8277-13df51bc386d",
   "metadata": {},
   "source": [
    "### Question: Find the Maximum Value in a List Using a Function\n",
    "Description: Write a function named find_max that takes a list of integers as an argument and returns the maximum value in the list. \n",
    "\n",
    "Do not use Python’s built-in max() function. The function should handle cases where the list is empty by returning None."
   ]
  },
  {
   "cell_type": "code",
   "execution_count": 3,
   "id": "6bbf6a1a-4f2a-4cf1-b76a-9077667625fc",
   "metadata": {},
   "outputs": [
    {
     "data": {
      "text/plain": [
       "'\\n# Example Input:\\nnumbers = [3, 5, 2, 8, 1]\\n# Expected Output:\\n8\\n'"
      ]
     },
     "execution_count": 3,
     "metadata": {},
     "output_type": "execute_result"
    }
   ],
   "source": [
    "'''\n",
    "# Example Input:\n",
    "numbers = [3, 5, 2, 8, 1]\n",
    "# Expected Output:\n",
    "8\n",
    "'''"
   ]
  },
  {
   "cell_type": "code",
   "execution_count": 4,
   "id": "e5ffa4f8-b515-4feb-ad3a-a69c46d3d33b",
   "metadata": {},
   "outputs": [],
   "source": [
    "def get_max_value(numbers):\n",
    "    if len(numbers) == 0:\n",
    "        return None\n",
    "    maximum = numbers[0]\n",
    "    for num in numbers:\n",
    "        if num > maximum:\n",
    "            maximum = num\n",
    "    return maximum\n"
   ]
  },
  {
   "cell_type": "code",
   "execution_count": 5,
   "id": "f641ebbd-188f-45fa-8714-a4eae8f38a33",
   "metadata": {},
   "outputs": [
    {
     "name": "stdout",
     "output_type": "stream",
     "text": [
      "8\n"
     ]
    }
   ],
   "source": [
    "numbers = [3, 5, 2, 8, 1]\n",
    "print(get_max_value(numbers))"
   ]
  },
  {
   "cell_type": "code",
   "execution_count": null,
   "id": "35679f63-2f79-4a0f-ac54-9db29263deab",
   "metadata": {},
   "outputs": [],
   "source": []
  }
 ],
 "metadata": {
  "kernelspec": {
   "display_name": "Python 3 (ipykernel)",
   "language": "python",
   "name": "python3"
  },
  "language_info": {
   "codemirror_mode": {
    "name": "ipython",
    "version": 3
   },
   "file_extension": ".py",
   "mimetype": "text/x-python",
   "name": "python",
   "nbconvert_exporter": "python",
   "pygments_lexer": "ipython3",
   "version": "3.9.20"
  }
 },
 "nbformat": 4,
 "nbformat_minor": 5
}
