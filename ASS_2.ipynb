{
 "cells": [
  {
   "cell_type": "code",
   "execution_count": 5,
   "id": "1d3df60b-9d5f-4129-8f13-d50269de886e",
   "metadata": {},
   "outputs": [
    {
     "name": "stdin",
     "output_type": "stream",
     "text": [
      "enter 1:  5 7 8\n",
      "enter 2:  19 18 1\n"
     ]
    },
    {
     "name": "stdout",
     "output_type": "stream",
     "text": [
      "netlist = [1, 5, 7, 8, 18, 19]\n"
     ]
    }
   ],
   "source": [
    "list1 = list(map(int, input(\"enter 1: \").split()))\n",
    "list2 = list(map(int, input(\"enter 2: \").split()))\n",
    "\n",
    "netlist = list1 + list2\n",
    "\n",
    "for i in range(len(netlist)):\n",
    "    for j in range(0, len(netlist) - i - 1):\n",
    "        if netlist[j] > netlist[j + 1]:\n",
    "            \n",
    "            netlist[j], netlist[j + 1] = netlist[j + 1], netlist[j]\n",
    "\n",
    "print(\"netlist =\", netlist)\n"
   ]
  },
  {
   "cell_type": "code",
   "execution_count": 21,
   "id": "7966c2ee-6cc5-4d51-a193-f3e123bd6250",
   "metadata": {},
   "outputs": [
    {
     "name": "stdin",
     "output_type": "stream",
     "text": [
      " 12 13\n"
     ]
    },
    {
     "name": "stdout",
     "output_type": "stream",
     "text": [
      "12\n"
     ]
    }
   ],
   "source": [
    "e = input().split()\n",
    "\n",
    "print(int(e[0]))\n",
    "print(' '+int(e[1]))\n",
    "print(' ' + e[2])\n",
    "print(' ' + float(e[3]))\n",
    "print(' ' + float(e[4]))\n"
   ]
  },
  {
   "cell_type": "code",
   "execution_count": 13,
   "id": "a3a00ec8-e652-4587-a916-417970d536d7",
   "metadata": {},
   "outputs": [
    {
     "data": {
      "text/plain": [
       "4"
      ]
     },
     "execution_count": 13,
     "metadata": {},
     "output_type": "execute_result"
    }
   ],
   "source": [
    "len(e)"
   ]
  },
  {
   "cell_type": "code",
   "execution_count": 15,
   "id": "49bd3450-1259-40c9-b385-cc57db54269d",
   "metadata": {},
   "outputs": [
    {
     "data": {
      "text/plain": [
       "9"
      ]
     },
     "execution_count": 15,
     "metadata": {},
     "output_type": "execute_result"
    }
   ],
   "source": [
    "input_values = input().split()\n",
    "\n",
    "\n",
    "print(int(input_values[0])) \n",
    "print(int(input_values[1])) \n",
    "print(input_values[2])\n",
    "print(float(input_values[3]))\n",
    "print(float(input_values[4])) "
   ]
  },
  {
   "cell_type": "code",
   "execution_count": 43,
   "id": "8f08c174-bb65-4729-9092-62d36e90f97d",
   "metadata": {},
   "outputs": [
    {
     "name": "stdin",
     "output_type": "stream",
     "text": [
      " 12 12\n"
     ]
    },
    {
     "name": "stdout",
     "output_type": "stream",
     "text": [
      "12 + 12 = 24\n",
      "12 * 12 = 144\n",
      "12 - 12 = 0\n"
     ]
    }
   ],
   "source": [
    "nums = list(map(float,input().split()))\n",
    "print(f'{int(nums[0])} + {int(nums[1])} = {int(nums[0]+nums[1])}')\n",
    "print(f'{int(nums[0])} * {int(nums[1])} = {int(nums[0]*nums[1])}')\n",
    "print(f'{int(nums[0])} - {int(nums[1])} = {int(nums[0]-nums[1])}')\n"
   ]
  },
  {
   "cell_type": "code",
   "execution_count": 29,
   "id": "14388be9-a837-4b2b-95a0-df4c1920ecb1",
   "metadata": {},
   "outputs": [
    {
     "data": {
      "text/plain": [
       "float"
      ]
     },
     "execution_count": 29,
     "metadata": {},
     "output_type": "execute_result"
    }
   ],
   "source": [
    "type(nums[1])"
   ]
  },
  {
   "cell_type": "code",
   "execution_count": 51,
   "id": "55b847f0-0e58-4a38-8c92-e2181e044090",
   "metadata": {},
   "outputs": [
    {
     "name": "stdin",
     "output_type": "stream",
     "text": [
      " 12 21 43 5\n"
     ]
    },
    {
     "name": "stdout",
     "output_type": "stream",
     "text": [
      "Difference = 37\n"
     ]
    }
   ],
   "source": [
    "A , B , C , D = list(map(int,input().split()))\n",
    "\n",
    "print(f'Difference = {(A*B) - (C*D)}')"
   ]
  },
  {
   "cell_type": "code",
   "execution_count": 47,
   "id": "ebeb69ec-37fd-479b-938c-4df85f821423",
   "metadata": {},
   "outputs": [
    {
     "data": {
      "text/plain": [
       "map"
      ]
     },
     "execution_count": 47,
     "metadata": {},
     "output_type": "execute_result"
    }
   ],
   "source": [
    "type(nums)"
   ]
  },
  {
   "cell_type": "code",
   "execution_count": 55,
   "id": "6a2eaba0-faaa-421b-be19-08daf9c01110",
   "metadata": {},
   "outputs": [
    {
     "name": "stdin",
     "output_type": "stream",
     "text": [
      " 2\n"
     ]
    }
   ],
   "source": [
    "R = float(input())"
   ]
  },
  {
   "cell_type": "code",
   "execution_count": 57,
   "id": "be6900ef-3e4c-41b7-9729-41c4615b76db",
   "metadata": {},
   "outputs": [],
   "source": [
    "import math"
   ]
  },
  {
   "cell_type": "code",
   "execution_count": 59,
   "id": "36f3846b-0376-4b49-9727-27b90a079ecd",
   "metadata": {},
   "outputs": [
    {
     "name": "stdout",
     "output_type": "stream",
     "text": [
      "12.566370612\n"
     ]
    }
   ],
   "source": [
    "print(3.141592653*math.pow(R,2))"
   ]
  },
  {
   "cell_type": "code",
   "execution_count": 1,
   "id": "c8f6bb28-a7c9-4a12-9f9c-d94fdd103482",
   "metadata": {},
   "outputs": [
    {
     "data": {
      "text/plain": [
       "6"
      ]
     },
     "execution_count": 1,
     "metadata": {},
     "output_type": "execute_result"
    }
   ],
   "source": [
    "round(5.5)"
   ]
  },
  {
   "cell_type": "code",
   "execution_count": null,
   "id": "3408c309-a777-4907-b590-c29707352ddd",
   "metadata": {},
   "outputs": [],
   "source": []
  }
 ],
 "metadata": {
  "kernelspec": {
   "display_name": "Python 3 (ipykernel)",
   "language": "python",
   "name": "python3"
  },
  "language_info": {
   "codemirror_mode": {
    "name": "ipython",
    "version": 3
   },
   "file_extension": ".py",
   "mimetype": "text/x-python",
   "name": "python",
   "nbconvert_exporter": "python",
   "pygments_lexer": "ipython3",
   "version": "3.12.4"
  }
 },
 "nbformat": 4,
 "nbformat_minor": 5
}
